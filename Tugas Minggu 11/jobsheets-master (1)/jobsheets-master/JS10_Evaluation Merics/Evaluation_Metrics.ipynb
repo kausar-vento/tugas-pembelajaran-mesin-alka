{
  "cells": [
    {
      "cell_type": "markdown",
      "metadata": {
        "id": "A_5noAffQiFu"
      },
      "source": [
        "# Evaluation Metrix  \n",
        "\n",
        "Memahami Metrics of Classification\n",
        "Di jobsheet ini, akan dijelaskan terkait berbagai metrik yang digunakan untuk menentukan kinerja pengklasifikasi secara lebih jelas. "
      ]
    },
    {
      "cell_type": "markdown",
      "metadata": {
        "id": "YjJmGxnbY9m9"
      },
      "source": [
        "Mari kita mulai dengan mengimpor libraries yang akan digunakan"
      ]
    },
    {
      "cell_type": "markdown",
      "metadata": {
        "id": "eXSU_fk7RlEM"
      },
      "source": [
        "### Importing libraries"
      ]
    },
    {
      "cell_type": "code",
      "execution_count": null,
      "metadata": {
        "id": "Sx4KZX7cF8Yd",
        "vscode": {
          "languageId": "python"
        }
      },
      "outputs": [],
      "source": [
        "import numpy as np\n",
        "import pandas as pd\n",
        "from sklearn.datasets import load_breast_cancer\n",
        "from sklearn.model_selection import train_test_split\n",
        "from sklearn import svm\n",
        "from sklearn import metrics\n",
        "import matplotlib.pyplot as plt\n",
        "import seaborn as sns\n",
        "import itertools\n",
        "\n",
        "np.random.seed(42)\n",
        "sns.set(rc={\"figure.figsize\": (8, 8)})\n",
        "sns.set_style(\"ticks\")"
      ]
    },
    {
      "cell_type": "markdown",
      "metadata": {
        "id": "0pddJrEbRtbr"
      },
      "source": [
        "### Dataset\n",
        "Untuk membandingkan metrik yang berbeda, akan menggunakan [Breast Cancer Dataset](https://goo.gl/U2Uwz2) yang disediakan oleh sckit-learn di `dataset` module. Dataset ini digunakan untuk klasifikasi biner antara dua jenis kanker."
      ]
    },
    {
      "cell_type": "code",
      "execution_count": null,
      "metadata": {
        "id": "glPEglrYGV6f",
        "vscode": {
          "languageId": "python"
        }
      },
      "outputs": [],
      "source": [
        "data = load_breast_cancer()\n",
        "print(data.DESCR[:760]) "
      ]
    },
    {
      "cell_type": "code",
      "execution_count": null,
      "metadata": {
        "id": "bStQWeSOSSp2",
        "vscode": {
          "languageId": "python"
        }
      },
      "outputs": [],
      "source": [
        "print(f\"Tipe dari kanker (targets) adalah {data.target_names}\")"
      ]
    },
    {
      "cell_type": "markdown",
      "metadata": {
        "id": "JizLx4ZfSZ-y"
      },
      "source": [
        "bagaimana dimensi datanya? terlihat ada **569 contoh** dan setiap contoh memiliki **30 features**.  \n",
        "yang menjadi **target** variable adalah binary (**0 and 1** untuk `malignant` dan `benign`).   \n",
        "akan dipertimbangkan `benign` sebagai `positive` class, dan `malignant` sebagi `negative` class.  \n",
        "Makan dapat difahami sebagai:  \n",
        "`0 untuk is_not_benign`  \n",
        "`1 untuk is_benign`"
      ]
    },
    {
      "cell_type": "code",
      "execution_count": null,
      "metadata": {
        "id": "xG-br8XcHXHC",
        "vscode": {
          "languageId": "python"
        }
      },
      "outputs": [],
      "source": [
        "X = data.data  \n",
        "y = data.target  \n",
        "print(f\"Shape dari features adalah {X.shape}, dan shape dari target adalah {y.shape}\")"
      ]
    },
    {
      "cell_type": "markdown",
      "metadata": {
        "id": "zpdfCVt8TW5K"
      },
      "source": [
        "### Split the data"
      ]
    },
    {
      "cell_type": "code",
      "execution_count": null,
      "metadata": {
        "id": "QsgrNr2RINsN",
        "vscode": {
          "languageId": "python"
        }
      },
      "outputs": [],
      "source": [
        "X_train, X_test, y_train, y_test = train_test_split(X, y, test_size=200, random_state=42, stratify=y)"
      ]
    },
    {
      "cell_type": "code",
      "execution_count": null,
      "metadata": {
        "id": "YAU7JsyNJhc-",
        "vscode": {
          "languageId": "python"
        }
      },
      "outputs": [],
      "source": [
        "y_train[:10]"
      ]
    },
    {
      "cell_type": "markdown",
      "metadata": {
        "id": "DVCi5RMsJE-O"
      },
      "source": [
        "### Training and predicting data"
      ]
    },
    {
      "cell_type": "markdown",
      "metadata": {
        "id": "4iRqwJU-TmIt"
      },
      "source": [
        "Dalam contoh ini, akan menggunakan scikit's Support Vector Machines classifier untuk memprediksi apakah itu kanker jinak.  \n",
        "`SVC` classifier digunakan dari `sklearn.svm`."
      ]
    },
    {
      "cell_type": "code",
      "execution_count": null,
      "metadata": {
        "id": "4pKL5VoJKh8A",
        "vscode": {
          "languageId": "python"
        }
      },
      "outputs": [],
      "source": [
        "classifier = svm.SVC(kernel='linear', probability=True, verbose=True)"
      ]
    },
    {
      "cell_type": "code",
      "execution_count": null,
      "metadata": {
        "id": "1rj0E-XnLWaH",
        "vscode": {
          "languageId": "python"
        }
      },
      "outputs": [],
      "source": [
        "classifier.fit(X_train, y_train)"
      ]
    },
    {
      "cell_type": "code",
      "execution_count": null,
      "metadata": {
        "id": "hZvqwrrAT6UV",
        "vscode": {
          "languageId": "python"
        }
      },
      "outputs": [],
      "source": [
        "Now save the prediction results both as probability and as classes.  \n",
        "**`y_preds`** is a **1D vector** of one of `{0, 1}` values, denoting predictions as malignant and benign, respectively.  \n",
        "**`y_proba`** is a **2D vector**, where for each example, it contains a vector of length 2,  \n",
        "`[prob. of malignant, prob. of benign]`"
      ]
    },
    {
      "cell_type": "code",
      "execution_count": null,
      "metadata": {
        "id": "1PdjKHbfT6AX",
        "vscode": {
          "languageId": "python"
        }
      },
      "outputs": [],
      "source": [
        "y_preds = classifier.predict(X_test)\n",
        "y_proba = classifier.predict_proba(X_test)"
      ]
    },
    {
      "cell_type": "code",
      "execution_count": null,
      "metadata": {
        "id": "To9oQknC19dh",
        "vscode": {
          "languageId": "python"
        }
      },
      "outputs": [],
      "source": [
        "y_proba = y_proba[:,1].reshape((y_proba.shape[0],))"
      ]
    },
    {
      "cell_type": "code",
      "execution_count": null,
      "metadata": {
        "id": "J_VDguyUL7fu",
        "vscode": {
          "languageId": "python"
        }
      },
      "outputs": [],
      "source": [
        "y_proba[:5], y_preds[:5], y_test[:5]"
      ]
    },
    {
      "cell_type": "markdown",
      "metadata": {
        "id": "QM2WA4_FJfgT"
      },
      "source": [
        "### Confusion Matrix"
      ]
    },
    {
      "cell_type": "markdown",
      "metadata": {
        "id": "HEtVeYiBUDvH"
      },
      "source": [
        "selanjutnya akan dilakukan perhitungan confusion matrix dan akan diimplementasikan dalam Scikit-learn's [`sklearn.metrics.confusion_matrix`](http://scikit-learn.org/stable/modules/generated/sklearn.metrics.confusion_matrix.html)."
      ]
    },
    {
      "cell_type": "code",
      "execution_count": null,
      "metadata": {
        "id": "gXSq_kfcN8U8",
        "vscode": {
          "languageId": "python"
        }
      },
      "outputs": [],
      "source": [
        "conf = metrics.confusion_matrix(y_test, y_preds)\n",
        "conf"
      ]
    },
    {
      "cell_type": "code",
      "execution_count": null,
      "metadata": {
        "id": "e1yDrh9AqZjB",
        "vscode": {
          "languageId": "python"
        }
      },
      "outputs": [],
      "source": [
        "def get_confusion_matrix(y_true, y_pred):\n",
        "    n_classes = len(np.unique(y_true))\n",
        "    conf = np.zeros((n_classes, n_classes))\n",
        "    for actual, pred in zip(y_true, y_pred):\n",
        "        conf[int(actual)][int(pred)] += 1\n",
        "    return conf.astype('int')"
      ]
    },
    {
      "cell_type": "code",
      "execution_count": null,
      "metadata": {
        "id": "txQRtyAZrnbG",
        "vscode": {
          "languageId": "python"
        }
      },
      "outputs": [],
      "source": [
        "conf = get_confusion_matrix(y_test, y_preds)\n",
        "conf"
      ]
    },
    {
      "cell_type": "code",
      "execution_count": null,
      "metadata": {
        "id": "PiSZNOpnOeYu",
        "vscode": {
          "languageId": "python"
        }
      },
      "outputs": [],
      "source": [
        "classes = [0, 1]\n",
        "\n",
        "plt.imshow(conf, interpolation='nearest', cmap=plt.cm.Greens)\n",
        "plt.title(\"Confusion Matrix\")\n",
        "plt.colorbar()\n",
        "tick_marks = np.arange(len(classes))\n",
        "plt.xticks(tick_marks, classes)\n",
        "plt.yticks(tick_marks, classes)\n",
        "\n",
        "fmt = 'd'\n",
        "thresh = conf.max() / 2.\n",
        "for i, j in itertools.product(range(conf.shape[0]), range(conf.shape[1])):\n",
        "    plt.text(j, i, format(conf[i, j], fmt),\n",
        "             horizontalalignment=\"center\",\n",
        "             color=\"white\" if conf[i, j] > thresh else \"black\")\n",
        "\n",
        "plt.tight_layout()\n",
        "plt.ylabel('True label')\n",
        "plt.xlabel('Predicted label')"
      ]
    },
    {
      "cell_type": "markdown",
      "metadata": {
        "id": "v81eYMJ0UM29"
      },
      "source": [
        "dari hasil confusion matrix dapat dilihat jumlah contoh yang diprediksi benar oleh classifier, untuk kedua kelas secara terpisah.  \n",
        "sehingga didaptkan hasil `True Positives, True Negatives, False Positives, and False Negatives` dari perhitungan confusion matrix.  "
      ]
    },
    {
      "cell_type": "code",
      "execution_count": null,
      "metadata": {
        "id": "gjTIQRccOr-A",
        "vscode": {
          "languageId": "python"
        }
      },
      "outputs": [],
      "source": [
        "\n",
        "TP = true_pos = 123\n",
        "TN = true_neg = 68\n",
        "FP = false_pos = 7\n",
        "FN = false_neg = 2"
      ]
    },
    {
      "cell_type": "markdown",
      "metadata": {
        "id": "USDonfT5Jpr2"
      },
      "source": [
        "### Berbagai tipe *basic metrics*"
      ]
    },
    {
      "cell_type": "markdown",
      "metadata": {
        "id": "X5dcb4jEPpDR"
      },
      "source": [
        "Sekarang, kita akan menghitung beberapa metrik dasar dari keempat nilai. dan dibutuhkan dictionary untuk menyimpan metrik ini. maka per dibuat dictionary `results`."
      ]
    },
    {
      "cell_type": "code",
      "execution_count": null,
      "metadata": {
        "id": "wFE2EKmxV_Xx",
        "vscode": {
          "languageId": "python"
        }
      },
      "outputs": [],
      "source": [
        "results = {}"
      ]
    },
    {
      "cell_type": "markdown",
      "metadata": {
        "id": "U6O_iUIHZqgj"
      },
      "source": [
        "#### Accuracy \n",
        "jumlah contoh yang diprediksi dengan benar / jumlah total contoh  \n",
        "![alt text](https://wikimedia.org/api/rest_v1/media/math/render/svg/c72ec21ef2505c2d376e96197637fc64f75e5891)"
      ]
    },
    {
      "cell_type": "code",
      "execution_count": null,
      "metadata": {
        "id": "4y3hcfI0WFfv",
        "vscode": {
          "languageId": "python"
        }
      },
      "outputs": [],
      "source": [
        "metric = \"ACC\"\n",
        "results[metric] = (TP + TN) / (TP + TN + FP + FN)\n",
        "print(f\"{metric} is {results[metric]: .3f}\")"
      ]
    },
    {
      "cell_type": "markdown",
      "metadata": {
        "id": "vjmFM1v_Z_a8"
      },
      "source": [
        "#### True Positive Rate\n",
        "jumlah sampel sebenarnya dan diprediksi sebagai `Positive` / jumlah sampel sebenarnya `Positive`  \n",
        "juga disebut sebagai **Sensitivity or Recall**.  \n",
        "![alt text](https://wikimedia.org/api/rest_v1/media/math/render/svg/64d5540cbadeb83f864d7a731b7ab43cccd0f353)\n"
      ]
    },
    {
      "cell_type": "code",
      "execution_count": null,
      "metadata": {
        "id": "q8JoI-S6WKMS",
        "vscode": {
          "languageId": "python"
        }
      },
      "outputs": [],
      "source": [
        "\n",
        "metric = \"TPR\"\n",
        "results[metric] = TP / (TP + FN)\n",
        "print(f\"{metric} is {results[metric]: .3f}\")"
      ]
    },
    {
      "cell_type": "markdown",
      "metadata": {
        "id": "f6y1c1SDa0Lg"
      },
      "source": [
        "#### True Negative Rate\n",
        "jumlah sampel sebenarnya dan diprediksi sebagai `Negative` / jumlah sampel sebenarnya `Negative`  \n",
        "juga disebut sebagai **Specificity**.  \n",
        "![alt text](https://wikimedia.org/api/rest_v1/media/math/render/svg/aac65b6586cb61c1268403895012c2a8f19b0c5e)\n"
      ]
    },
    {
      "cell_type": "code",
      "execution_count": null,
      "metadata": {
        "id": "rkRmDKjSYLYE",
        "vscode": {
          "languageId": "python"
        }
      },
      "outputs": [],
      "source": [
        "\n",
        "metric = \"TNR\"\n",
        "results[metric] = TN / (TN + FP)\n",
        "print(f\"{metric} is {results[metric]: .3f}\")"
      ]
    },
    {
      "cell_type": "markdown",
      "metadata": {
        "id": "qK7WCIlpbDis"
      },
      "source": [
        "#### Positive Predictive Value\n",
        "jumlah sampel sebenarnya dan diprediksi sebagai `Positive` / jumlah total sampel diprediksi sebagai `Positive`  \n",
        "Also called **Precision**.  \n",
        "![alt text](https://wikimedia.org/api/rest_v1/media/math/render/svg/699fcdb880b7f6a92742bc0845b8b60b59806a98)\n"
      ]
    },
    {
      "cell_type": "code",
      "execution_count": null,
      "metadata": {
        "id": "lNgS7UwfYce9",
        "vscode": {
          "languageId": "python"
        }
      },
      "outputs": [],
      "source": [
        "\n",
        "metric = \"PPV\"\n",
        "results[metric] = TP / (TP + FP)\n",
        "print(f\"{metric} is {results[metric]: .3f}\")"
      ]
    },
    {
      "cell_type": "markdown",
      "metadata": {
        "id": "VBPShM1JdQpO"
      },
      "source": [
        "#### Negative Predictive Value\n",
        "number of samples actually and predicted as  `Negative` / total number of samples predicted as `Negative`    \n",
        "![alt text](https://wikimedia.org/api/rest_v1/media/math/render/svg/b6da0f59faffbc1704974e97847ab4fa599f5521)\n"
      ]
    },
    {
      "cell_type": "code",
      "execution_count": null,
      "metadata": {
        "id": "qAAhCMaOdsSn",
        "vscode": {
          "languageId": "python"
        }
      },
      "outputs": [],
      "source": [
        "metric = \"NPV\"\n",
        "results[metric] = TN / (TN + FN)\n",
        "print(f\"{metric} is {results[metric]: .3f}\")"
      ]
    },
    {
      "cell_type": "markdown",
      "metadata": {
        "id": "D6mxQtZyfIte"
      },
      "source": [
        "#### F1 score\n",
        "Rata-rata Harmonic dari Precision dan Recall.  \n",
        "![alt text](https://wikimedia.org/api/rest_v1/media/math/render/svg/5663ca95d471868169c4e4ea57c936f1b6f4a588)"
      ]
    },
    {
      "cell_type": "code",
      "execution_count": null,
      "metadata": {
        "id": "8pNnIhEbdzFc",
        "vscode": {
          "languageId": "python"
        }
      },
      "outputs": [],
      "source": [
        "metric = \"F1\"\n",
        "results[metric] = 2 / (1 / results[\"PPV\"] + 1 / results[\"TPR\"])\n",
        "print(f\"{metric} is {results[metric]: .3f}\")"
      ]
    },
    {
      "cell_type": "markdown",
      "metadata": {
        "id": "ZF98MS34edwA"
      },
      "source": [
        "#### Matthew's correlation coefficient\n",
        "Matthew's coefficient berkisar antara `[-1, 1]`. `0` biasanya memiliki arti prediksi yang benar-benar acak. `1` bermakna perfect classifier, sedangkan nilai negatif (`[-1, 0)`) menunjukkan korelasi negatif antara prediksi dan nilai aktual.   \n",
        "\n",
        "![alt text](https://wikimedia.org/api/rest_v1/media/math/render/svg/5caa90fc15105b74b59a30bbc9cc2e5bd43a13b7)"
      ]
    },
    {
      "cell_type": "code",
      "execution_count": null,
      "metadata": {
        "id": "IxtxoxxmgZxI",
        "vscode": {
          "languageId": "python"
        }
      },
      "outputs": [],
      "source": [
        "metric = \"MCC\"\n",
        "num = TP * TN - FP * FN\n",
        "den = ((TP + FP) * (TP + FN) * (TN + FP) * (TN + FN)) ** 0.5\n",
        "results[metric] = num / den\n",
        "print(f\"{metric} is {results[metric]: .3f}\")"
      ]
    },
    {
      "cell_type": "markdown",
      "metadata": {
        "id": "4S-Do05vg9js"
      },
      "source": [
        "### Membandingkan metrik yang telah dihitung"
      ]
    },
    {
      "cell_type": "code",
      "execution_count": null,
      "metadata": {
        "id": "7R0RMkI0krAp",
        "vscode": {
          "languageId": "python"
        }
      },
      "outputs": [],
      "source": [
        "print(f\"Calculated dan Actual Accuracy:                          {results['ACC']: .3f}, {metrics.accuracy_score(y_test, y_preds): .3f}\")\n",
        "print(f\"Calculated dan Actual Precision score:                   {results['PPV']: .3f}, {metrics.precision_score(y_test, y_preds): .3f}\")\n",
        "print(f\"Calculated dan Actual Recall score:                      {results['TPR']: .3f}, {metrics.recall_score(y_test, y_preds): .3f}\")\n",
        "print(f\"Calculated dan Actual F1 score:                          {results['F1']: .3f}, {metrics.f1_score(y_test, y_preds): .3f}\")\n",
        "print(f\"Calculated dan Actual Matthew's correlation coefficient: {results['MCC']: .3f}, {metrics.matthews_corrcoef(y_test, y_preds): .3f}\")"
      ]
    },
    {
      "cell_type": "markdown",
      "metadata": {
        "id": "7UI7NWzcpu8p"
      },
      "source": [
        "### ROC curve (Receiver Operating Characteristic curve)\n",
        "Kurva karakteristik operasi penerima, seperti **ROC curve**, adalah plot grafis yang menggambarkan kemampuan diagnostik sistem pengklasifikasi biner karena ambang batas diskriminasinya bervariasi.  \n",
        " ROC curve dibuat dengan memplot **True Positive Rate (TPR)** berlawanan **False Positive Rate (FPR)** dengan berbagai variasi setting pada threshold.    \n"
      ]
    },
    {
      "cell_type": "code",
      "execution_count": null,
      "metadata": {
        "id": "1-gXSQ_HrdnI",
        "vscode": {
          "languageId": "python"
        }
      },
      "outputs": [],
      "source": [
        "def get_roc_curve(y_test, y_proba, delta=0.1):\n",
        "\n",
        "    thresh = list(np.arange(0, 1, delta)) + [1]\n",
        "    TPRs = []\n",
        "    FPRs = []\n",
        "    y_pred = np.empty(y_proba.shape)\n",
        "    for th in thresh:\n",
        "        y_pred[y_proba < th] = 0\n",
        "        y_pred[y_proba >= th] = 1\n",
        "        \n",
        "        \n",
        "        (TN, FP), (FN, TP) = get_confusion_matrix(y_test, y_pred)\n",
        "        \n",
        "        TPR = TP / (TP + FN)  # sensitivity\n",
        "        FPR = FP / (FP + TN)  # 1 - specificity\n",
        "        TPRs.append(TPR)\n",
        "        FPRs.append(FPR)\n",
        "    return FPRs, TPRs, thresh"
      ]
    },
    {
      "cell_type": "markdown",
      "metadata": {
        "id": "W3iQtSMKJ63N"
      },
      "source": [
        "disini `delta` adalah perbedaan antara masing-masing ambang batas di mana kurva ROC dihitung"
      ]
    },
    {
      "cell_type": "code",
      "execution_count": null,
      "metadata": {
        "id": "2zkIsIz31HGY",
        "vscode": {
          "languageId": "python"
        }
      },
      "outputs": [],
      "source": [
        "delta = 0.001\n",
        "FPRs, TPRs, _ = get_roc_curve(y_test, y_proba, delta)"
      ]
    },
    {
      "cell_type": "code",
      "execution_count": null,
      "metadata": {
        "id": "Igzm5LZDzsNZ",
        "vscode": {
          "languageId": "python"
        }
      },
      "outputs": [],
      "source": [
        "\n",
        "plt.plot(FPRs, TPRs, color='red',\n",
        "         lw=2, label='ROC curve')\n",
        "plt.plot([0, 1], [0, 1], color='navy', lw=2, linestyle='--', label=\"Mean\")\n",
        "plt.xlim([-0.05, 1.0])\n",
        "plt.ylim([0.0, 1.05])\n",
        "plt.xlabel('False Positive Rate')\n",
        "plt.ylabel('True Positive Rate')\n",
        "plt.title(f'ROC curve (threshold delta = {delta})')\n",
        "plt.legend(loc=\"lower right\")\n",
        "plt.show()"
      ]
    },
    {
      "cell_type": "markdown",
      "metadata": {
        "id": "q6B3omej42Rk"
      },
      "source": [
        "Puncak menuju sudut paling kiri berarti pengklasifikasi mendekati sempurna, sedangkan prediksi acak akan memiliki kurva sebagai garis lurus putus-putus biru. Kurva ROC ini memberi tahu bahwa model yang telah dibuat merupakan classifier yang hampir sempurna, dengan akurasi tinggi"
      ]
    },
    {
      "cell_type": "code",
      "execution_count": null,
      "metadata": {
        "id": "o6EvFVw655bo",
        "vscode": {
          "languageId": "python"
        }
      },
      "outputs": [],
      "source": [
        "\n",
        "rand_proba = np.random.random(size=(y_proba.shape))\n",
        "rand_proba[:5] "
      ]
    },
    {
      "cell_type": "code",
      "execution_count": null,
      "metadata": {
        "id": "ZNA8dltO6itt",
        "vscode": {
          "languageId": "python"
        }
      },
      "outputs": [],
      "source": [
        "FPRs, TPRs, _ = get_roc_curve(y_test, rand_proba, delta)  "
      ]
    },
    {
      "cell_type": "code",
      "execution_count": null,
      "metadata": {
        "id": "a-MFHXue2g4C",
        "vscode": {
          "languageId": "python"
        }
      },
      "outputs": [],
      "source": [
        "\n",
        "plt.plot(FPRs, TPRs, color='red',\n",
        "         lw=2, label='ROC curve')\n",
        "plt.plot([0, 1], [0, 1], color='navy', lw=2, linestyle='--', label=\"Mean\")\n",
        "plt.xlim([-0.05, 1.0])\n",
        "plt.ylim([0.0, 1.05])\n",
        "plt.xlabel('False Positive Rate')\n",
        "plt.ylabel('True Positive Rate')\n",
        "plt.title(f'Random Predictions ROC curve (threshold delta = {delta})')\n",
        "plt.legend(loc=\"lower right\")\n",
        "plt.show()"
      ]
    },
    {
      "cell_type": "markdown",
      "metadata": {
        "id": "JKHS-Skq-IPp"
      },
      "source": [
        "Seperti yang dapat dilihat dari plot di atas, prediksi acak memberikan kurva ROC hampir pada rata-rata. Bandingkan dengan kurva sebelumnya, bagaimana model yang dihasilkan memiliki puncak kiri atas, karena kinerjanya yang unggul."
      ]
    },
    {
      "cell_type": "code",
      "execution_count": null,
      "metadata": {
        "id": "azh7aCjE7Qid",
        "vscode": {
          "languageId": "python"
        }
      },
      "outputs": [],
      "source": [
        "FPRs, TPRs, _ = metrics.roc_curve(y_test, y_proba)"
      ]
    },
    {
      "cell_type": "code",
      "execution_count": null,
      "metadata": {
        "id": "L4-Eric87exv",
        "vscode": {
          "languageId": "python"
        }
      },
      "outputs": [],
      "source": [
        "\n",
        "plt.plot(FPRs, TPRs, color='red',\n",
        "         lw=2, label='ROC curve')\n",
        "plt.plot([0, 1], [0, 1], color='navy', lw=2, linestyle='--', label=\"Mean\")\n",
        "plt.xlim([-0.05, 1.0])\n",
        "plt.ylim([0.0, 1.05])\n",
        "plt.xlabel('False Positive Rate')\n",
        "plt.ylabel('True Positive Rate')\n",
        "plt.title(\"Scikit-learn's ROC curve\")\n",
        "plt.legend(loc=\"lower right\")\n",
        "plt.show()"
      ]
    },
    {
      "cell_type": "code",
      "execution_count": null,
      "metadata": {
        "id": "OHTRMD-57xM6",
        "vscode": {
          "languageId": "python"
        }
      },
      "outputs": [],
      "source": [
        "FPRs, TPRs, _ = metrics.roc_curve(y_test, rand_proba) "
      ]
    },
    {
      "cell_type": "code",
      "execution_count": null,
      "metadata": {
        "id": "xYr2nKQm7yKI",
        "vscode": {
          "languageId": "python"
        }
      },
      "outputs": [],
      "source": [
        "plt.plot(FPRs, TPRs, color='red',\n",
        "         lw=2, label='ROC curve')\n",
        "plt.plot([0, 1], [0, 1], color='navy', lw=2, linestyle='--', label=\"Mean\")\n",
        "plt.xlim([-0.05, 1.0])\n",
        "plt.ylim([0.0, 1.05])\n",
        "plt.xlabel('False Positive Rate')\n",
        "plt.ylabel('True Positive Rate')\n",
        "plt.title(\"Scikit-learn's Random Predictions ROC curve\")\n",
        "plt.legend(loc=\"lower right\")\n",
        "plt.show()"
      ]
    },
    {
      "cell_type": "markdown",
      "metadata": {
        "id": "wcQXLrk68FC1"
      },
      "source": [
        "### ROC-AUC score\n",
        "Now, that we know about ROC curve, what it represents, **AUC score** is very easy to understand.  \n",
        "AUC stands for **Area under the Curve**, which is nothing but the area under the ROC curve formed by the predictions.  \n",
        "As we saw, a totally random prediction will have AUC score `0.5`, while a perfect classifier will have AUC score of `1`. "
      ]
    },
    {
      "cell_type": "code",
      "execution_count": null,
      "metadata": {
        "id": "pQmvuU9AKUvm",
        "vscode": {
          "languageId": "python"
        }
      },
      "outputs": [],
      "source": [
        "auc_score = metrics.roc_auc_score(y_test, y_proba)\n",
        "print(f\"Scikit's ROC-AUC score of SVC model is {auc_score: .4f}\")"
      ]
    },
    {
      "cell_type": "code",
      "execution_count": null,
      "metadata": {
        "id": "cyx-Y4nPd6oL",
        "vscode": {
          "languageId": "python"
        }
      },
      "outputs": [],
      "source": [
        "def get_roc_auc_score(y_test, y_proba):\n",
        "    \n",
        "    FPRs, TPRs, _ = get_roc_curve(y_test, y_proba)\n",
        "    FPRs.reverse()\n",
        "    TPRs.reverse()\n",
        "    x1, y1 = FPRs[0], TPRs[0]\n",
        "    auc = 0.0\n",
        "    prev = 0.0\n",
        "\n",
        "    diffs = [FPRs[i] - FPRs[i-1] for i in range(1, len(FPRs))]\n",
        "    for x, y in zip(diffs, TPRs[1:]):\n",
        "        auc += (x * y1)\n",
        "        auc += (x * (y - y1)/2) \n",
        "        y1 = y\n",
        "    return auc"
      ]
    },
    {
      "cell_type": "code",
      "execution_count": null,
      "metadata": {
        "id": "pqucApZPjn9H",
        "vscode": {
          "languageId": "python"
        }
      },
      "outputs": [],
      "source": [
        "auc_score = get_roc_auc_score(y_test, y_proba)\n",
        "print(f\"ROC-AUC score dari SVC model adalah {auc_score: .4f}\")"
      ]
    },
    {
      "cell_type": "code",
      "execution_count": null,
      "metadata": {
        "id": "p0970PIaLBYj",
        "vscode": {
          "languageId": "python"
        }
      },
      "outputs": [],
      "source": [
        "auc_score = metrics.roc_auc_score(y_test, rand_proba)\n",
        "print(f\"Scikit's ROC-AUC score dari random predictions adalah: {auc_score: .4f}\")\n",
        "auc_score = get_roc_auc_score(y_test, rand_proba)\n",
        "print(f\"ROC-AUC score dari random predictions adalah:      {auc_score: .4f}\")"
      ]
    }
  ],
  "metadata": {
    "accelerator": "GPU",
    "colab": {
      "collapsed_sections": [],
      "provenance": [],
      "toc_visible": true
    },
    "kernelspec": {
      "display_name": "Python 3",
      "name": "python3"
    }
  },
  "nbformat": 4,
  "nbformat_minor": 0
}