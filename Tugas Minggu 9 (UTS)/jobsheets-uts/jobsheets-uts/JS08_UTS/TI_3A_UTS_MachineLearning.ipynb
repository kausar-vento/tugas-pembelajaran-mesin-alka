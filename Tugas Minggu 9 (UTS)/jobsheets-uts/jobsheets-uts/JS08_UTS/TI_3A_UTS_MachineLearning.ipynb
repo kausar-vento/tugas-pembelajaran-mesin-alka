{
 "cells": [
  {
   "cell_type": "markdown",
   "metadata": {},
   "source": [
    "<center><h1>UTS MACHINE LEARNING</h1></center>\n",
    "<center><b>Anggota Kelompok</b></center>\n",
    "<br>\n",
    "<center>\n",
    "    <li>Afif Qomarul Ghunlam</li>\n",
    "    <li>Iqhsan Bagus Prasetyo</li>\n",
    "    <li>Muhamad Al Kausar Ramadhan</li>\n",
    "    <li>Muhamad Alif Rizki</li>\n",
    "    <li>R Muhammad Azmi Herdi Shofiyullah</li>\n",
    "</center>\n"
   ]
  },
  {
   "cell_type": "markdown",
   "metadata": {},
   "source": [
    "<h3>Kode program dibawah merupakan library – library yang digunakan</h3>"
   ]
  },
  {
   "cell_type": "code",
   "execution_count": 1,
   "metadata": {},
   "outputs": [
    {
     "name": "stderr",
     "output_type": "stream",
     "text": [
      "[nltk_data] Downloading package wordnet to\n",
      "[nltk_data]     C:\\Users\\user\\AppData\\Roaming\\nltk_data...\n",
      "[nltk_data]   Package wordnet is already up-to-date!\n"
     ]
    }
   ],
   "source": [
    "import numpy as np\n",
    "import pandas as pd\n",
    "import re\n",
    "\n",
    "import nltk\n",
    "nltk.download('wordnet')\n",
    "from nltk.corpus import stopwords\n",
    "from sklearn.preprocessing import LabelEncoder\n",
    "from sklearn.feature_extraction.text import CountVectorizer,TfidfTransformer\n",
    "from sklearn.model_selection import train_test_split\n",
    "from scipy.stats import itemfreq\n"
   ]
  },
  {
   "cell_type": "markdown",
   "metadata": {},
   "source": [
    "<h3>Kode program dibawah digunakan untuk mengambil file “tweet_emotions.csv”, lalu dibawahnya untuk menampilkan datanya sebanyak 50</h3>"
   ]
  },
  {
   "cell_type": "code",
   "execution_count": 2,
   "metadata": {},
   "outputs": [
    {
     "data": {
      "text/html": [
       "<div>\n",
       "<style scoped>\n",
       "    .dataframe tbody tr th:only-of-type {\n",
       "        vertical-align: middle;\n",
       "    }\n",
       "\n",
       "    .dataframe tbody tr th {\n",
       "        vertical-align: top;\n",
       "    }\n",
       "\n",
       "    .dataframe thead th {\n",
       "        text-align: right;\n",
       "    }\n",
       "</style>\n",
       "<table border=\"1\" class=\"dataframe\">\n",
       "  <thead>\n",
       "    <tr style=\"text-align: right;\">\n",
       "      <th></th>\n",
       "      <th>tweet_id</th>\n",
       "      <th>sentiment</th>\n",
       "      <th>content</th>\n",
       "    </tr>\n",
       "  </thead>\n",
       "  <tbody>\n",
       "    <tr>\n",
       "      <th>0</th>\n",
       "      <td>1956967341</td>\n",
       "      <td>empty</td>\n",
       "      <td>@tiffanylue i know  i was listenin to bad habi...</td>\n",
       "    </tr>\n",
       "    <tr>\n",
       "      <th>1</th>\n",
       "      <td>1956967666</td>\n",
       "      <td>sadness</td>\n",
       "      <td>Layin n bed with a headache  ughhhh...waitin o...</td>\n",
       "    </tr>\n",
       "    <tr>\n",
       "      <th>2</th>\n",
       "      <td>1956967696</td>\n",
       "      <td>sadness</td>\n",
       "      <td>Funeral ceremony...gloomy friday...</td>\n",
       "    </tr>\n",
       "    <tr>\n",
       "      <th>3</th>\n",
       "      <td>1956967789</td>\n",
       "      <td>enthusiasm</td>\n",
       "      <td>wants to hang out with friends SOON!</td>\n",
       "    </tr>\n",
       "    <tr>\n",
       "      <th>4</th>\n",
       "      <td>1956968416</td>\n",
       "      <td>neutral</td>\n",
       "      <td>@dannycastillo We want to trade with someone w...</td>\n",
       "    </tr>\n",
       "    <tr>\n",
       "      <th>5</th>\n",
       "      <td>1956968477</td>\n",
       "      <td>worry</td>\n",
       "      <td>Re-pinging @ghostridah14: why didn't you go to...</td>\n",
       "    </tr>\n",
       "    <tr>\n",
       "      <th>6</th>\n",
       "      <td>1956968487</td>\n",
       "      <td>sadness</td>\n",
       "      <td>I should be sleep, but im not! thinking about ...</td>\n",
       "    </tr>\n",
       "    <tr>\n",
       "      <th>7</th>\n",
       "      <td>1956968636</td>\n",
       "      <td>worry</td>\n",
       "      <td>Hmmm. http://www.djhero.com/ is down</td>\n",
       "    </tr>\n",
       "    <tr>\n",
       "      <th>8</th>\n",
       "      <td>1956969035</td>\n",
       "      <td>sadness</td>\n",
       "      <td>@charviray Charlene my love. I miss you</td>\n",
       "    </tr>\n",
       "    <tr>\n",
       "      <th>9</th>\n",
       "      <td>1956969172</td>\n",
       "      <td>sadness</td>\n",
       "      <td>@kelcouch I'm sorry  at least it's Friday?</td>\n",
       "    </tr>\n",
       "    <tr>\n",
       "      <th>10</th>\n",
       "      <td>1956969456</td>\n",
       "      <td>neutral</td>\n",
       "      <td>cant fall asleep</td>\n",
       "    </tr>\n",
       "    <tr>\n",
       "      <th>11</th>\n",
       "      <td>1956969531</td>\n",
       "      <td>worry</td>\n",
       "      <td>Choked on her retainers</td>\n",
       "    </tr>\n",
       "    <tr>\n",
       "      <th>12</th>\n",
       "      <td>1956970047</td>\n",
       "      <td>sadness</td>\n",
       "      <td>Ugh! I have to beat this stupid song to get to...</td>\n",
       "    </tr>\n",
       "    <tr>\n",
       "      <th>13</th>\n",
       "      <td>1956970424</td>\n",
       "      <td>sadness</td>\n",
       "      <td>@BrodyJenner if u watch the hills in london u ...</td>\n",
       "    </tr>\n",
       "    <tr>\n",
       "      <th>14</th>\n",
       "      <td>1956970860</td>\n",
       "      <td>surprise</td>\n",
       "      <td>Got the news</td>\n",
       "    </tr>\n",
       "    <tr>\n",
       "      <th>15</th>\n",
       "      <td>1956971077</td>\n",
       "      <td>sadness</td>\n",
       "      <td>The storm is here and the electricity is gone</td>\n",
       "    </tr>\n",
       "    <tr>\n",
       "      <th>16</th>\n",
       "      <td>1956971170</td>\n",
       "      <td>love</td>\n",
       "      <td>@annarosekerr agreed</td>\n",
       "    </tr>\n",
       "    <tr>\n",
       "      <th>17</th>\n",
       "      <td>1956971206</td>\n",
       "      <td>sadness</td>\n",
       "      <td>So sleepy again and it's not even that late. I...</td>\n",
       "    </tr>\n",
       "    <tr>\n",
       "      <th>18</th>\n",
       "      <td>1956971473</td>\n",
       "      <td>worry</td>\n",
       "      <td>@PerezHilton lady gaga tweeted about not being...</td>\n",
       "    </tr>\n",
       "    <tr>\n",
       "      <th>19</th>\n",
       "      <td>1956971586</td>\n",
       "      <td>sadness</td>\n",
       "      <td>How are YOU convinced that I have always wante...</td>\n",
       "    </tr>\n",
       "    <tr>\n",
       "      <th>20</th>\n",
       "      <td>1956971981</td>\n",
       "      <td>worry</td>\n",
       "      <td>@raaaaaaek oh too bad! I hope it gets better. ...</td>\n",
       "    </tr>\n",
       "    <tr>\n",
       "      <th>21</th>\n",
       "      <td>1956972097</td>\n",
       "      <td>fun</td>\n",
       "      <td>Wondering why I'm awake at 7am,writing a new s...</td>\n",
       "    </tr>\n",
       "    <tr>\n",
       "      <th>22</th>\n",
       "      <td>1956972116</td>\n",
       "      <td>neutral</td>\n",
       "      <td>No Topic Maps talks at the Balisage Markup Con...</td>\n",
       "    </tr>\n",
       "    <tr>\n",
       "      <th>23</th>\n",
       "      <td>1956972270</td>\n",
       "      <td>worry</td>\n",
       "      <td>I ate Something I don't know what it is... Why...</td>\n",
       "    </tr>\n",
       "    <tr>\n",
       "      <th>24</th>\n",
       "      <td>1956972359</td>\n",
       "      <td>sadness</td>\n",
       "      <td>so tired and i think i'm definitely going to g...</td>\n",
       "    </tr>\n",
       "    <tr>\n",
       "      <th>25</th>\n",
       "      <td>1956972444</td>\n",
       "      <td>worry</td>\n",
       "      <td>On my way home n having 2 deal w underage girl...</td>\n",
       "    </tr>\n",
       "    <tr>\n",
       "      <th>26</th>\n",
       "      <td>1956972557</td>\n",
       "      <td>sadness</td>\n",
       "      <td>@IsaacMascote  i'm sorry people are so rude to...</td>\n",
       "    </tr>\n",
       "    <tr>\n",
       "      <th>27</th>\n",
       "      <td>1956972884</td>\n",
       "      <td>worry</td>\n",
       "      <td>Damm servers still down  i need to hit 80 befo...</td>\n",
       "    </tr>\n",
       "    <tr>\n",
       "      <th>28</th>\n",
       "      <td>1956973598</td>\n",
       "      <td>sadness</td>\n",
       "      <td>Fudge.... Just BS'd that whole paper.... So ti...</td>\n",
       "    </tr>\n",
       "    <tr>\n",
       "      <th>29</th>\n",
       "      <td>1956973690</td>\n",
       "      <td>worry</td>\n",
       "      <td>I HATE CANCER. I HATE IT I HATE IT I HATE IT.</td>\n",
       "    </tr>\n",
       "    <tr>\n",
       "      <th>30</th>\n",
       "      <td>1956974706</td>\n",
       "      <td>hate</td>\n",
       "      <td>It is so annoying when she starts typing on he...</td>\n",
       "    </tr>\n",
       "    <tr>\n",
       "      <th>31</th>\n",
       "      <td>1956975441</td>\n",
       "      <td>neutral</td>\n",
       "      <td>@cynthia_123 i cant sleep</td>\n",
       "    </tr>\n",
       "    <tr>\n",
       "      <th>32</th>\n",
       "      <td>1956975860</td>\n",
       "      <td>neutral</td>\n",
       "      <td>I missed the bl***y bus!!!!!!!!</td>\n",
       "    </tr>\n",
       "    <tr>\n",
       "      <th>33</th>\n",
       "      <td>1956975876</td>\n",
       "      <td>neutral</td>\n",
       "      <td>feels strong contractions but wants to go out....</td>\n",
       "    </tr>\n",
       "    <tr>\n",
       "      <th>34</th>\n",
       "      <td>1956975927</td>\n",
       "      <td>neutral</td>\n",
       "      <td>SoCal!  stoked. or maybe not.. tomorrow</td>\n",
       "    </tr>\n",
       "    <tr>\n",
       "      <th>35</th>\n",
       "      <td>1956976187</td>\n",
       "      <td>neutral</td>\n",
       "      <td>Screw you @davidbrussee! I only have 3 weeks...</td>\n",
       "    </tr>\n",
       "    <tr>\n",
       "      <th>36</th>\n",
       "      <td>1956976312</td>\n",
       "      <td>sadness</td>\n",
       "      <td>@ether_radio yeah :S i feel all funny cause i ...</td>\n",
       "    </tr>\n",
       "    <tr>\n",
       "      <th>37</th>\n",
       "      <td>1956976371</td>\n",
       "      <td>worry</td>\n",
       "      <td>I need skott right now</td>\n",
       "    </tr>\n",
       "    <tr>\n",
       "      <th>38</th>\n",
       "      <td>1956976557</td>\n",
       "      <td>neutral</td>\n",
       "      <td>has work this afternoon</td>\n",
       "    </tr>\n",
       "    <tr>\n",
       "      <th>39</th>\n",
       "      <td>1956976681</td>\n",
       "      <td>neutral</td>\n",
       "      <td>@GABBYiSACTiVE Aw you would not unfollow me wo...</td>\n",
       "    </tr>\n",
       "    <tr>\n",
       "      <th>40</th>\n",
       "      <td>1956977084</td>\n",
       "      <td>happiness</td>\n",
       "      <td>mmm much better day... so far! it's still quit...</td>\n",
       "    </tr>\n",
       "    <tr>\n",
       "      <th>41</th>\n",
       "      <td>1956977187</td>\n",
       "      <td>fun</td>\n",
       "      <td>@DavidArchie &amp;lt;3 your gonna be the first  tw...</td>\n",
       "    </tr>\n",
       "    <tr>\n",
       "      <th>42</th>\n",
       "      <td>1956977618</td>\n",
       "      <td>worry</td>\n",
       "      <td>just picked up her Blackberry from the middle ...</td>\n",
       "    </tr>\n",
       "    <tr>\n",
       "      <th>43</th>\n",
       "      <td>1956977624</td>\n",
       "      <td>worry</td>\n",
       "      <td>Why do I have the feeling I should be packing ...</td>\n",
       "    </tr>\n",
       "    <tr>\n",
       "      <th>44</th>\n",
       "      <td>1956978276</td>\n",
       "      <td>empty</td>\n",
       "      <td>@creyes middle school and elem. High schools w...</td>\n",
       "    </tr>\n",
       "    <tr>\n",
       "      <th>45</th>\n",
       "      <td>1956978410</td>\n",
       "      <td>worry</td>\n",
       "      <td>Bed!!!!!... its time,..... hope i go to school...</td>\n",
       "    </tr>\n",
       "    <tr>\n",
       "      <th>46</th>\n",
       "      <td>1956978668</td>\n",
       "      <td>worry</td>\n",
       "      <td>@onscrn Ahh.  ... Well, I was hoping that I co...</td>\n",
       "    </tr>\n",
       "    <tr>\n",
       "      <th>47</th>\n",
       "      <td>1956979150</td>\n",
       "      <td>sadness</td>\n",
       "      <td>I'm having a problem with my photo here in twi...</td>\n",
       "    </tr>\n",
       "    <tr>\n",
       "      <th>48</th>\n",
       "      <td>1956979437</td>\n",
       "      <td>neutral</td>\n",
       "      <td>@jakeboyd, oh noooo!  if i blow a tire you're ...</td>\n",
       "    </tr>\n",
       "    <tr>\n",
       "      <th>49</th>\n",
       "      <td>1956979756</td>\n",
       "      <td>neutral</td>\n",
       "      <td>wnna take a bath!!!!</td>\n",
       "    </tr>\n",
       "  </tbody>\n",
       "</table>\n",
       "</div>"
      ],
      "text/plain": [
       "      tweet_id   sentiment                                            content\n",
       "0   1956967341       empty  @tiffanylue i know  i was listenin to bad habi...\n",
       "1   1956967666     sadness  Layin n bed with a headache  ughhhh...waitin o...\n",
       "2   1956967696     sadness                Funeral ceremony...gloomy friday...\n",
       "3   1956967789  enthusiasm               wants to hang out with friends SOON!\n",
       "4   1956968416     neutral  @dannycastillo We want to trade with someone w...\n",
       "5   1956968477       worry  Re-pinging @ghostridah14: why didn't you go to...\n",
       "6   1956968487     sadness  I should be sleep, but im not! thinking about ...\n",
       "7   1956968636       worry               Hmmm. http://www.djhero.com/ is down\n",
       "8   1956969035     sadness            @charviray Charlene my love. I miss you\n",
       "9   1956969172     sadness         @kelcouch I'm sorry  at least it's Friday?\n",
       "10  1956969456     neutral                                   cant fall asleep\n",
       "11  1956969531       worry                            Choked on her retainers\n",
       "12  1956970047     sadness  Ugh! I have to beat this stupid song to get to...\n",
       "13  1956970424     sadness  @BrodyJenner if u watch the hills in london u ...\n",
       "14  1956970860    surprise                                       Got the news\n",
       "15  1956971077     sadness      The storm is here and the electricity is gone\n",
       "16  1956971170        love                               @annarosekerr agreed\n",
       "17  1956971206     sadness  So sleepy again and it's not even that late. I...\n",
       "18  1956971473       worry  @PerezHilton lady gaga tweeted about not being...\n",
       "19  1956971586     sadness  How are YOU convinced that I have always wante...\n",
       "20  1956971981       worry  @raaaaaaek oh too bad! I hope it gets better. ...\n",
       "21  1956972097         fun  Wondering why I'm awake at 7am,writing a new s...\n",
       "22  1956972116     neutral  No Topic Maps talks at the Balisage Markup Con...\n",
       "23  1956972270       worry  I ate Something I don't know what it is... Why...\n",
       "24  1956972359     sadness  so tired and i think i'm definitely going to g...\n",
       "25  1956972444       worry  On my way home n having 2 deal w underage girl...\n",
       "26  1956972557     sadness  @IsaacMascote  i'm sorry people are so rude to...\n",
       "27  1956972884       worry  Damm servers still down  i need to hit 80 befo...\n",
       "28  1956973598     sadness  Fudge.... Just BS'd that whole paper.... So ti...\n",
       "29  1956973690       worry      I HATE CANCER. I HATE IT I HATE IT I HATE IT.\n",
       "30  1956974706        hate  It is so annoying when she starts typing on he...\n",
       "31  1956975441     neutral                          @cynthia_123 i cant sleep\n",
       "32  1956975860     neutral                    I missed the bl***y bus!!!!!!!!\n",
       "33  1956975876     neutral  feels strong contractions but wants to go out....\n",
       "34  1956975927     neutral            SoCal!  stoked. or maybe not.. tomorrow\n",
       "35  1956976187     neutral    Screw you @davidbrussee! I only have 3 weeks...\n",
       "36  1956976312     sadness  @ether_radio yeah :S i feel all funny cause i ...\n",
       "37  1956976371       worry                             I need skott right now\n",
       "38  1956976557     neutral                            has work this afternoon\n",
       "39  1956976681     neutral  @GABBYiSACTiVE Aw you would not unfollow me wo...\n",
       "40  1956977084   happiness  mmm much better day... so far! it's still quit...\n",
       "41  1956977187         fun  @DavidArchie &lt;3 your gonna be the first  tw...\n",
       "42  1956977618       worry  just picked up her Blackberry from the middle ...\n",
       "43  1956977624       worry  Why do I have the feeling I should be packing ...\n",
       "44  1956978276       empty  @creyes middle school and elem. High schools w...\n",
       "45  1956978410       worry  Bed!!!!!... its time,..... hope i go to school...\n",
       "46  1956978668       worry  @onscrn Ahh.  ... Well, I was hoping that I co...\n",
       "47  1956979150     sadness  I'm having a problem with my photo here in twi...\n",
       "48  1956979437     neutral  @jakeboyd, oh noooo!  if i blow a tire you're ...\n",
       "49  1956979756     neutral                               wnna take a bath!!!!"
      ]
     },
     "execution_count": 2,
     "metadata": {},
     "output_type": "execute_result"
    }
   ],
   "source": [
    "df = pd.read_csv('data/tweet_emotions.csv')\n",
    "df.head(50)"
   ]
  },
  {
   "cell_type": "markdown",
   "metadata": {},
   "source": [
    "<h4>Lalu variable data digunakan untuk menampung isian dari variable df. Lalu varable data sentiment digunakan untuk mencari data disgust, dan hate pada column sentiment, kemudian isin digunakan untuk memberikan nilai true pada data yang ada di column sentiment selain disgust dan hate</h4>"
   ]
  },
  {
   "cell_type": "code",
   "execution_count": 3,
   "metadata": {},
   "outputs": [
    {
     "data": {
      "text/html": [
       "<div>\n",
       "<style scoped>\n",
       "    .dataframe tbody tr th:only-of-type {\n",
       "        vertical-align: middle;\n",
       "    }\n",
       "\n",
       "    .dataframe tbody tr th {\n",
       "        vertical-align: top;\n",
       "    }\n",
       "\n",
       "    .dataframe thead th {\n",
       "        text-align: right;\n",
       "    }\n",
       "</style>\n",
       "<table border=\"1\" class=\"dataframe\">\n",
       "  <thead>\n",
       "    <tr style=\"text-align: right;\">\n",
       "      <th></th>\n",
       "      <th>tweet_id</th>\n",
       "      <th>sentiment</th>\n",
       "      <th>content</th>\n",
       "    </tr>\n",
       "  </thead>\n",
       "  <tbody>\n",
       "    <tr>\n",
       "      <th>0</th>\n",
       "      <td>1956967341</td>\n",
       "      <td>empty</td>\n",
       "      <td>@tiffanylue i know  i was listenin to bad habi...</td>\n",
       "    </tr>\n",
       "    <tr>\n",
       "      <th>1</th>\n",
       "      <td>1956967666</td>\n",
       "      <td>sadness</td>\n",
       "      <td>Layin n bed with a headache  ughhhh...waitin o...</td>\n",
       "    </tr>\n",
       "    <tr>\n",
       "      <th>2</th>\n",
       "      <td>1956967696</td>\n",
       "      <td>sadness</td>\n",
       "      <td>Funeral ceremony...gloomy friday...</td>\n",
       "    </tr>\n",
       "    <tr>\n",
       "      <th>3</th>\n",
       "      <td>1956967789</td>\n",
       "      <td>enthusiasm</td>\n",
       "      <td>wants to hang out with friends SOON!</td>\n",
       "    </tr>\n",
       "    <tr>\n",
       "      <th>4</th>\n",
       "      <td>1956968416</td>\n",
       "      <td>neutral</td>\n",
       "      <td>@dannycastillo We want to trade with someone w...</td>\n",
       "    </tr>\n",
       "  </tbody>\n",
       "</table>\n",
       "</div>"
      ],
      "text/plain": [
       "     tweet_id   sentiment                                            content\n",
       "0  1956967341       empty  @tiffanylue i know  i was listenin to bad habi...\n",
       "1  1956967666     sadness  Layin n bed with a headache  ughhhh...waitin o...\n",
       "2  1956967696     sadness                Funeral ceremony...gloomy friday...\n",
       "3  1956967789  enthusiasm               wants to hang out with friends SOON!\n",
       "4  1956968416     neutral  @dannycastillo We want to trade with someone w..."
      ]
     },
     "execution_count": 3,
     "metadata": {},
     "output_type": "execute_result"
    }
   ],
   "source": [
    "data = df\n",
    "data.head()"
   ]
  },
  {
   "cell_type": "code",
   "execution_count": 4,
   "metadata": {},
   "outputs": [],
   "source": [
    "data.sentiment = np.where((data.sentiment == 'disgust') |(data.sentiment == 'hate'),'hate',data.sentiment)"
   ]
  },
  {
   "cell_type": "code",
   "execution_count": 5,
   "metadata": {},
   "outputs": [],
   "source": [
    "data=data[data.sentiment.isin(['sadness','worry','joy'])]"
   ]
  },
  {
   "cell_type": "code",
   "execution_count": 6,
   "metadata": {},
   "outputs": [
    {
     "data": {
      "text/plain": [
       "worry      8459\n",
       "sadness    5165\n",
       "Name: sentiment, dtype: int64"
      ]
     },
     "execution_count": 6,
     "metadata": {},
     "output_type": "execute_result"
    }
   ],
   "source": [
    "data.sentiment.value_counts()"
   ]
  },
  {
   "cell_type": "markdown",
   "metadata": {},
   "source": [
    "<h1>PEMBERSIHAN COLUMN CONTENT</h1>\n",
    "<br>\n",
    "<h4>Kode program dibawah digunakan untuk membersihkan data pada column content untuk menghilangkan special character dan beberapa situs website seperti http atau www</h4>"
   ]
  },
  {
   "cell_type": "code",
   "execution_count": 7,
   "metadata": {},
   "outputs": [
    {
     "name": "stderr",
     "output_type": "stream",
     "text": [
      "<ipython-input-7-d45457a228c0>:1: FutureWarning: The default value of regex will change from True to False in a future version.\n",
      "  data['content']=data['content'].str.replace('[^A-Za-z0-9\\s]+', '')\n",
      "<ipython-input-7-d45457a228c0>:1: SettingWithCopyWarning: \n",
      "A value is trying to be set on a copy of a slice from a DataFrame.\n",
      "Try using .loc[row_indexer,col_indexer] = value instead\n",
      "\n",
      "See the caveats in the documentation: https://pandas.pydata.org/pandas-docs/stable/user_guide/indexing.html#returning-a-view-versus-a-copy\n",
      "  data['content']=data['content'].str.replace('[^A-Za-z0-9\\s]+', '')\n",
      "<ipython-input-7-d45457a228c0>:2: FutureWarning: The default value of regex will change from True to False in a future version.\n",
      "  data['content']=data['content'].str.replace('http\\S+|www.\\S+', '', case=False)\n",
      "<ipython-input-7-d45457a228c0>:2: SettingWithCopyWarning: \n",
      "A value is trying to be set on a copy of a slice from a DataFrame.\n",
      "Try using .loc[row_indexer,col_indexer] = value instead\n",
      "\n",
      "See the caveats in the documentation: https://pandas.pydata.org/pandas-docs/stable/user_guide/indexing.html#returning-a-view-versus-a-copy\n",
      "  data['content']=data['content'].str.replace('http\\S+|www.\\S+', '', case=False)\n",
      "<ipython-input-7-d45457a228c0>:3: SettingWithCopyWarning: \n",
      "A value is trying to be set on a copy of a slice from a DataFrame.\n",
      "Try using .loc[row_indexer,col_indexer] = value instead\n",
      "\n",
      "See the caveats in the documentation: https://pandas.pydata.org/pandas-docs/stable/user_guide/indexing.html#returning-a-view-versus-a-copy\n",
      "  data['content']=data['content'].str.lower()\n"
     ]
    },
    {
     "data": {
      "text/html": [
       "<div>\n",
       "<style scoped>\n",
       "    .dataframe tbody tr th:only-of-type {\n",
       "        vertical-align: middle;\n",
       "    }\n",
       "\n",
       "    .dataframe tbody tr th {\n",
       "        vertical-align: top;\n",
       "    }\n",
       "\n",
       "    .dataframe thead th {\n",
       "        text-align: right;\n",
       "    }\n",
       "</style>\n",
       "<table border=\"1\" class=\"dataframe\">\n",
       "  <thead>\n",
       "    <tr style=\"text-align: right;\">\n",
       "      <th></th>\n",
       "      <th>tweet_id</th>\n",
       "      <th>sentiment</th>\n",
       "      <th>content</th>\n",
       "    </tr>\n",
       "  </thead>\n",
       "  <tbody>\n",
       "    <tr>\n",
       "      <th>1</th>\n",
       "      <td>1956967666</td>\n",
       "      <td>sadness</td>\n",
       "      <td>layin n bed with a headache  ughhhhwaitin on y...</td>\n",
       "    </tr>\n",
       "    <tr>\n",
       "      <th>2</th>\n",
       "      <td>1956967696</td>\n",
       "      <td>sadness</td>\n",
       "      <td>funeral ceremonygloomy friday</td>\n",
       "    </tr>\n",
       "    <tr>\n",
       "      <th>5</th>\n",
       "      <td>1956968477</td>\n",
       "      <td>worry</td>\n",
       "      <td>repinging ghostridah14 why didnt you go to pro...</td>\n",
       "    </tr>\n",
       "    <tr>\n",
       "      <th>6</th>\n",
       "      <td>1956968487</td>\n",
       "      <td>sadness</td>\n",
       "      <td>i should be sleep but im not thinking about an...</td>\n",
       "    </tr>\n",
       "    <tr>\n",
       "      <th>7</th>\n",
       "      <td>1956968636</td>\n",
       "      <td>worry</td>\n",
       "      <td>hmmm  is down</td>\n",
       "    </tr>\n",
       "  </tbody>\n",
       "</table>\n",
       "</div>"
      ],
      "text/plain": [
       "     tweet_id sentiment                                            content\n",
       "1  1956967666   sadness  layin n bed with a headache  ughhhhwaitin on y...\n",
       "2  1956967696   sadness                      funeral ceremonygloomy friday\n",
       "5  1956968477     worry  repinging ghostridah14 why didnt you go to pro...\n",
       "6  1956968487   sadness  i should be sleep but im not thinking about an...\n",
       "7  1956968636     worry                                      hmmm  is down"
      ]
     },
     "execution_count": 7,
     "metadata": {},
     "output_type": "execute_result"
    }
   ],
   "source": [
    "data['content']=data['content'].str.replace('[^A-Za-z0-9\\s]+', '')\n",
    "data['content']=data['content'].str.replace('http\\S+|www.\\S+', '', case=False)\n",
    "data['content']=data['content'].str.lower()\n",
    "data.head()"
   ]
  },
  {
   "cell_type": "markdown",
   "metadata": {},
   "source": [
    "<h5>Kode program dibawah digunakan untuk memindahkan data yang ada di column sentiment ke variable target, lalu variable data terdapat fungsi untuk drop column sentiment</h5>"
   ]
  },
  {
   "cell_type": "code",
   "execution_count": 8,
   "metadata": {},
   "outputs": [
    {
     "data": {
      "text/html": [
       "<div>\n",
       "<style scoped>\n",
       "    .dataframe tbody tr th:only-of-type {\n",
       "        vertical-align: middle;\n",
       "    }\n",
       "\n",
       "    .dataframe tbody tr th {\n",
       "        vertical-align: top;\n",
       "    }\n",
       "\n",
       "    .dataframe thead th {\n",
       "        text-align: right;\n",
       "    }\n",
       "</style>\n",
       "<table border=\"1\" class=\"dataframe\">\n",
       "  <thead>\n",
       "    <tr style=\"text-align: right;\">\n",
       "      <th></th>\n",
       "      <th>tweet_id</th>\n",
       "      <th>content</th>\n",
       "    </tr>\n",
       "  </thead>\n",
       "  <tbody>\n",
       "    <tr>\n",
       "      <th>1</th>\n",
       "      <td>1956967666</td>\n",
       "      <td>layin n bed with a headache  ughhhhwaitin on y...</td>\n",
       "    </tr>\n",
       "    <tr>\n",
       "      <th>2</th>\n",
       "      <td>1956967696</td>\n",
       "      <td>funeral ceremonygloomy friday</td>\n",
       "    </tr>\n",
       "    <tr>\n",
       "      <th>5</th>\n",
       "      <td>1956968477</td>\n",
       "      <td>repinging ghostridah14 why didnt you go to pro...</td>\n",
       "    </tr>\n",
       "    <tr>\n",
       "      <th>6</th>\n",
       "      <td>1956968487</td>\n",
       "      <td>i should be sleep but im not thinking about an...</td>\n",
       "    </tr>\n",
       "    <tr>\n",
       "      <th>7</th>\n",
       "      <td>1956968636</td>\n",
       "      <td>hmmm  is down</td>\n",
       "    </tr>\n",
       "  </tbody>\n",
       "</table>\n",
       "</div>"
      ],
      "text/plain": [
       "     tweet_id                                            content\n",
       "1  1956967666  layin n bed with a headache  ughhhhwaitin on y...\n",
       "2  1956967696                      funeral ceremonygloomy friday\n",
       "5  1956968477  repinging ghostridah14 why didnt you go to pro...\n",
       "6  1956968487  i should be sleep but im not thinking about an...\n",
       "7  1956968636                                      hmmm  is down"
      ]
     },
     "execution_count": 8,
     "metadata": {},
     "output_type": "execute_result"
    }
   ],
   "source": [
    "target=data.sentiment\n",
    "data = data.drop(['sentiment'],axis=1)\n",
    "data.head()"
   ]
  },
  {
   "cell_type": "markdown",
   "metadata": {},
   "source": [
    "<h5>Kode program dibawah digunakan untuk melakukan encoder pada variable target yang berisikan data column sentiment. Lalu dibawahnya terdapat kode program untuk melakukan split test</h5>"
   ]
  },
  {
   "cell_type": "code",
   "execution_count": 9,
   "metadata": {},
   "outputs": [],
   "source": [
    "le=LabelEncoder()\n",
    "target=le.fit_transform(target)"
   ]
  },
  {
   "cell_type": "code",
   "execution_count": 10,
   "metadata": {},
   "outputs": [],
   "source": [
    "X_train, X_test, y_train, y_test = train_test_split(data,target,stratify=target,test_size=0.4, random_state=42)"
   ]
  },
  {
   "cell_type": "markdown",
   "metadata": {},
   "source": [
    "<h3>Kedua kode program yang ada digambar bawah adalah untuk melakukan melakukan perhitungan frekuensi dari y_train dan y_test</h3>"
   ]
  },
  {
   "cell_type": "code",
   "execution_count": 11,
   "metadata": {},
   "outputs": [
    {
     "name": "stderr",
     "output_type": "stream",
     "text": [
      "<ipython-input-11-01f9992843c9>:1: DeprecationWarning: `itemfreq` is deprecated!\n",
      "`itemfreq` is deprecated and will be removed in a future version. Use instead `np.unique(..., return_counts=True)`\n",
      "  itemfreq(y_train)\n"
     ]
    },
    {
     "data": {
      "text/plain": [
       "array([[   0, 3099],\n",
       "       [   1, 5075]], dtype=int64)"
      ]
     },
     "execution_count": 11,
     "metadata": {},
     "output_type": "execute_result"
    }
   ],
   "source": [
    "itemfreq(y_train)"
   ]
  },
  {
   "cell_type": "code",
   "execution_count": 12,
   "metadata": {},
   "outputs": [
    {
     "name": "stderr",
     "output_type": "stream",
     "text": [
      "<ipython-input-12-07c65b4fa6f5>:1: DeprecationWarning: `itemfreq` is deprecated!\n",
      "`itemfreq` is deprecated and will be removed in a future version. Use instead `np.unique(..., return_counts=True)`\n",
      "  itemfreq(y_test)\n"
     ]
    },
    {
     "data": {
      "text/plain": [
       "array([[   0, 2066],\n",
       "       [   1, 3384]], dtype=int64)"
      ]
     },
     "execution_count": 12,
     "metadata": {},
     "output_type": "execute_result"
    }
   ],
   "source": [
    "itemfreq(y_test)"
   ]
  },
  {
   "cell_type": "markdown",
   "metadata": {},
   "source": [
    "<h3>Lalu pada kode program dibawah digunakan untuk m engubah teks yang diberikan menjadi vektor berdasarkan frekuensi (jumlah) dari setiap kata yang muncul</h3>"
   ]
  },
  {
   "cell_type": "code",
   "execution_count": 13,
   "metadata": {},
   "outputs": [
    {
     "name": "stdout",
     "output_type": "stream",
     "text": [
      "Shape of Term Frequency Matrix:  (8174, 15811)\n"
     ]
    }
   ],
   "source": [
    "contVect = CountVectorizer()\n",
    "X_train_counts = contVect.fit_transform(X_train.content)\n",
    "X_test_counts =contVect.transform(X_test.content)\n",
    "print('Shape of Term Frequency Matrix: ',X_train_counts.shape)"
   ]
  },
  {
   "cell_type": "markdown",
   "metadata": {},
   "source": [
    "MENGGUNAKAN NAIVE BAYES"
   ]
  },
  {
   "cell_type": "markdown",
   "metadata": {},
   "source": [
    "<h3>Pada kode program dibawah digunakan untuk menghitung akurasi, pada perhitungan ini menggunakan NaiveBayes</h3>"
   ]
  },
  {
   "cell_type": "code",
   "execution_count": 14,
   "metadata": {},
   "outputs": [
    {
     "name": "stdout",
     "output_type": "stream",
     "text": [
      "0.6236697247706422\n"
     ]
    }
   ],
   "source": [
    "from sklearn.naive_bayes import MultinomialNB\n",
    "muNb = MultinomialNB().fit(X_train_counts,y_train)\n",
    "predict = muNb.predict(X_test_counts)\n",
    "nb_clf_accuracy = np.mean(predict == y_test)\n",
    "print(nb_clf_accuracy)"
   ]
  },
  {
   "cell_type": "markdown",
   "metadata": {},
   "source": [
    "<h1>MENGGUNAKAN PIPELINE</h1>\n",
    "<br>\n",
    "<h5>Pada kode program dibawah digunakan untuk menghitung  akurasi menggunakan metode PipeLines. Pada perhitungan ini data yang ada di column test masih blm bersih oleh karena itu pada perhitungan ini kami mencoba menggunakan stop_words untuk menghilangkan kata kerja yang ada di column content, dan mencoba melakukan perhitungan dengan PipeLines</h5>"
   ]
  },
  {
   "cell_type": "code",
   "execution_count": 15,
   "metadata": {},
   "outputs": [],
   "source": [
    "from sklearn.pipeline import Pipeline\n",
    "def print_akurasi(model):\n",
    "    predicted = model.predict(X_test.content)\n",
    "    accuracy = np.mean(predicted == y_test) \n",
    "    print(accuracy)"
   ]
  },
  {
   "cell_type": "code",
   "execution_count": 16,
   "metadata": {},
   "outputs": [
    {
     "name": "stdout",
     "output_type": "stream",
     "text": [
      "0.6260550458715596\n"
     ]
    }
   ],
   "source": [
    "\n",
    "stop_words = set(stopwords.words('english'))\n",
    "nb_clf = Pipeline([('vect', CountVectorizer(stop_words=stop_words)), ('clf', MultinomialNB())])\n",
    "nb_clf = nb_clf.fit(X_train.content,y_train)\n",
    "print_akurasi(nb_clf)"
   ]
  }
 ],
 "metadata": {
  "kernelspec": {
   "display_name": "Python 3.8.8 ('base')",
   "language": "python",
   "name": "python3"
  },
  "language_info": {
   "codemirror_mode": {
    "name": "ipython",
    "version": 3
   },
   "file_extension": ".py",
   "mimetype": "text/x-python",
   "name": "python",
   "nbconvert_exporter": "python",
   "pygments_lexer": "ipython3",
   "version": "3.8.8"
  },
  "orig_nbformat": 4,
  "vscode": {
   "interpreter": {
    "hash": "a077222d77dfe082b8f1dd562ad70e458ac2ab76993a0b248ab0476e32e9e8dd"
   }
  }
 },
 "nbformat": 4,
 "nbformat_minor": 2
}
